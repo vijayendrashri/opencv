{
 "cells": [
  {
   "cell_type": "code",
   "execution_count": 2,
   "id": "34aa9b68",
   "metadata": {},
   "outputs": [],
   "source": [
    "#!/usr/bin/env python\n",
    "\n",
    "import numpy as np\n",
    "import cv2\n",
    "from tensorflow.keras.models import load_model\n",
    "\n",
    "classifier = load_model(\"my_sign_gesture.h5\")\n",
    "\n",
    "# Test on actual webcam\n",
    "cap = cv2.VideoCapture(0)\n",
    "# print(\" Video Capture =================================== \",cap.isOpened())\n",
    "while True:\n",
    "\tret,frame = cap.read()\n",
    "\tframe = cv2.flip(frame,1)\n",
    "\t#define region of interest\n",
    "\troi = frame[100:300,320:520]\n",
    "\tcv2.imshow('roi',roi)\n",
    "\troi = cv2.cvtColor(roi,cv2.COLOR_BGR2GRAY)\n",
    "\troi = cv2.resize(roi,(28,28),interpolation=cv2.INTER_AREA)\n",
    "\n",
    "\tcv2.imshow('ROI scaled and Gray',roi)\n",
    "\tcopy = frame.copy()\n",
    "\tcv2.rectangle(copy,(320,100),(520,300),(255,0,0),5)\n",
    "\n",
    "\troi = roi.reshape(1,28,28,1)\n",
    "\troi = roi/255\n",
    "\tresult =  str(classifier.predict(roi,1,verbose=0)[0])\n",
    "# \tprint(\"result = \", result)\n",
    "\tresult = np.argmax(classifier.predict(roi,1,verbose=0))\n",
    "\tcv2.putText(copy,str(result),(300,100),cv2.FONT_HERSHEY_COMPLEX,2,(0,255,0),2)\n",
    "\tcv2.imshow('frame',copy)\n",
    "\n",
    "\tif cv2.waitKey(1)==27:\n",
    "\t\tbreak\n",
    "\n",
    "cap.release()\n",
    "cv2.destroyAllWindows()"
   ]
  }
 ],
 "metadata": {
  "kernelspec": {
   "display_name": "Python 3 (ipykernel)",
   "language": "python",
   "name": "python3"
  },
  "language_info": {
   "codemirror_mode": {
    "name": "ipython",
    "version": 3
   },
   "file_extension": ".py",
   "mimetype": "text/x-python",
   "name": "python",
   "nbconvert_exporter": "python",
   "pygments_lexer": "ipython3",
   "version": "3.8.10"
  }
 },
 "nbformat": 4,
 "nbformat_minor": 5
}
